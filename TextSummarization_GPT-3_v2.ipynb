{
 "cells": [
  {
   "cell_type": "code",
   "execution_count": 6,
   "id": "9ca3efea-13a2-4354-b5cd-f491881aaa04",
   "metadata": {},
   "outputs": [
    {
     "name": "stdout",
     "output_type": "stream",
     "text": [
      "Requirement already satisfied: pandas in c:\\users\\mtsil\\appdata\\local\\programs\\python\\python39\\lib\\site-packages (2.1.0)\n",
      "Requirement already satisfied: numpy>=1.22.4 in c:\\users\\mtsil\\appdata\\local\\programs\\python\\python39\\lib\\site-packages (from pandas) (1.25.2)\n",
      "Requirement already satisfied: python-dateutil>=2.8.2 in c:\\users\\mtsil\\appdata\\local\\programs\\python\\python39\\lib\\site-packages (from pandas) (2.8.2)\n",
      "Requirement already satisfied: pytz>=2020.1 in c:\\users\\mtsil\\appdata\\local\\programs\\python\\python39\\lib\\site-packages (from pandas) (2023.3)\n",
      "Requirement already satisfied: tzdata>=2022.1 in c:\\users\\mtsil\\appdata\\local\\programs\\python\\python39\\lib\\site-packages (from pandas) (2023.3)\n",
      "Requirement already satisfied: six>=1.5 in c:\\users\\mtsil\\appdata\\local\\programs\\python\\python39\\lib\\site-packages (from python-dateutil>=2.8.2->pandas) (1.16.0)\n",
      "Note: you may need to restart the kernel to use updated packages.\n"
     ]
    },
    {
     "name": "stderr",
     "output_type": "stream",
     "text": [
      "WARNING: Ignoring invalid distribution -ip (c:\\users\\mtsil\\appdata\\local\\programs\\python\\python39\\lib\\site-packages)\n",
      "WARNING: Ignoring invalid distribution -ip (c:\\users\\mtsil\\appdata\\local\\programs\\python\\python39\\lib\\site-packages)\n"
     ]
    }
   ],
   "source": [
    "pip install pandas\n"
   ]
  },
  {
   "cell_type": "code",
   "execution_count": 7,
   "id": "7159de37-7580-4fa4-96dc-9f94322d5715",
   "metadata": {},
   "outputs": [],
   "source": [
    "import pandas as pd\n",
    "df = pd.read_csv(r'C:\\Users\\mtsil\\OneDrive\\Documents\\CNN_Articles.csv', encoding='iso-8859-1')"
   ]
  },
  {
   "cell_type": "code",
   "execution_count": 8,
   "id": "d1b42b68-51d3-4e4b-b35f-dfd917fc6183",
   "metadata": {},
   "outputs": [
    {
     "data": {
      "text/plain": [
       "(4076, 11)"
      ]
     },
     "execution_count": 8,
     "metadata": {},
     "output_type": "execute_result"
    }
   ],
   "source": [
    "df.shape"
   ]
  },
  {
   "cell_type": "code",
   "execution_count": 9,
   "id": "b33b9f8d-a593-4461-ae20-7293c274190d",
   "metadata": {},
   "outputs": [
    {
     "data": {
      "text/html": [
       "<div>\n",
       "<style scoped>\n",
       "    .dataframe tbody tr th:only-of-type {\n",
       "        vertical-align: middle;\n",
       "    }\n",
       "\n",
       "    .dataframe tbody tr th {\n",
       "        vertical-align: top;\n",
       "    }\n",
       "\n",
       "    .dataframe thead th {\n",
       "        text-align: right;\n",
       "    }\n",
       "</style>\n",
       "<table border=\"1\" class=\"dataframe\">\n",
       "  <thead>\n",
       "    <tr style=\"text-align: right;\">\n",
       "      <th></th>\n",
       "      <th>Index</th>\n",
       "      <th>Author</th>\n",
       "      <th>Date published</th>\n",
       "      <th>Category</th>\n",
       "      <th>Section</th>\n",
       "      <th>Url</th>\n",
       "      <th>Headline</th>\n",
       "      <th>Description</th>\n",
       "      <th>Keywords</th>\n",
       "      <th>Second headline</th>\n",
       "      <th>Article text</th>\n",
       "    </tr>\n",
       "  </thead>\n",
       "  <tbody>\n",
       "    <tr>\n",
       "      <th>0</th>\n",
       "      <td>0</td>\n",
       "      <td>Jacopo Prisco, CNN</td>\n",
       "      <td>2021-07-15 02:46:59</td>\n",
       "      <td>news</td>\n",
       "      <td>world</td>\n",
       "      <td>https://www.cnn.com/2021/07/14/world/tusimple-...</td>\n",
       "      <td>There's a shortage of truckers, but TuSimple t...</td>\n",
       "      <td>The e-commerce boom has exacerbated a global t...</td>\n",
       "      <td>world, There's a shortage of truckers, but TuS...</td>\n",
       "      <td>There's a shortage of truckers, but TuSimple t...</td>\n",
       "      <td>(CNN)Right now, there's a shortage of truck d...</td>\n",
       "    </tr>\n",
       "    <tr>\n",
       "      <th>1</th>\n",
       "      <td>2</td>\n",
       "      <td>Stephanie Bailey, CNN</td>\n",
       "      <td>2021-05-12 07:52:09</td>\n",
       "      <td>news</td>\n",
       "      <td>world</td>\n",
       "      <td>https://www.cnn.com/2021/05/12/world/ironhand-...</td>\n",
       "      <td>Bioservo's robotic 'Ironhand' could protect fa...</td>\n",
       "      <td>Working in a factory can mean doing the same t...</td>\n",
       "      <td>world, Bioservo's robotic 'Ironhand' could pro...</td>\n",
       "      <td>A robotic 'Ironhand' could protect factory wor...</td>\n",
       "      <td>(CNN)Working in a factory or warehouse can me...</td>\n",
       "    </tr>\n",
       "    <tr>\n",
       "      <th>2</th>\n",
       "      <td>3</td>\n",
       "      <td>Words by Stephanie Bailey, video by Zahra Jamshed</td>\n",
       "      <td>2021-06-16 02:51:30</td>\n",
       "      <td>news</td>\n",
       "      <td>asia</td>\n",
       "      <td>https://www.cnn.com/2021/06/15/asia/swarm-robo...</td>\n",
       "      <td>This swarm of robots gets smarter the more it ...</td>\n",
       "      <td>In a Hong Kong warehouse, a swarm of autonomou...</td>\n",
       "      <td>asia, This swarm of robots gets smarter the mo...</td>\n",
       "      <td>This swarm of robots gets smarter the more it ...</td>\n",
       "      <td>(CNN)In a Hong Kong warehouse, a swarm of aut...</td>\n",
       "    </tr>\n",
       "    <tr>\n",
       "      <th>3</th>\n",
       "      <td>4</td>\n",
       "      <td>Paul R. La Monica, CNN Business</td>\n",
       "      <td>2022-03-15 09:57:36</td>\n",
       "      <td>business</td>\n",
       "      <td>investing</td>\n",
       "      <td>https://www.cnn.com/2022/03/15/investing/brics...</td>\n",
       "      <td>Russia is no longer an option for investors. T...</td>\n",
       "      <td>For many years, the world's most popular emerg...</td>\n",
       "      <td>investing, Russia is no longer an option for i...</td>\n",
       "      <td>Russia is no longer an option for investors. T...</td>\n",
       "      <td>New York (CNN Business)For many years, the wor...</td>\n",
       "    </tr>\n",
       "    <tr>\n",
       "      <th>4</th>\n",
       "      <td>7</td>\n",
       "      <td>Reuters</td>\n",
       "      <td>2022-03-15 11:27:02</td>\n",
       "      <td>business</td>\n",
       "      <td>business</td>\n",
       "      <td>https://www.cnn.com/2022/03/15/business/russia...</td>\n",
       "      <td>Russian energy investment ban part of new EU s...</td>\n",
       "      <td>The European Union formally approved on Tuesda...</td>\n",
       "      <td>business, Russian energy investment ban part o...</td>\n",
       "      <td>EU bans investment in Russian energy in new sa...</td>\n",
       "      <td>The European Union formally approved on Tuesda...</td>\n",
       "    </tr>\n",
       "  </tbody>\n",
       "</table>\n",
       "</div>"
      ],
      "text/plain": [
       "   Index                                             Author  \\\n",
       "0      0                                 Jacopo Prisco, CNN   \n",
       "1      2                              Stephanie Bailey, CNN   \n",
       "2      3  Words by Stephanie Bailey, video by Zahra Jamshed   \n",
       "3      4                    Paul R. La Monica, CNN Business   \n",
       "4      7                                            Reuters   \n",
       "\n",
       "        Date published  Category    Section  \\\n",
       "0  2021-07-15 02:46:59      news      world   \n",
       "1  2021-05-12 07:52:09      news      world   \n",
       "2  2021-06-16 02:51:30      news       asia   \n",
       "3  2022-03-15 09:57:36  business  investing   \n",
       "4  2022-03-15 11:27:02  business   business   \n",
       "\n",
       "                                                 Url  \\\n",
       "0  https://www.cnn.com/2021/07/14/world/tusimple-...   \n",
       "1  https://www.cnn.com/2021/05/12/world/ironhand-...   \n",
       "2  https://www.cnn.com/2021/06/15/asia/swarm-robo...   \n",
       "3  https://www.cnn.com/2022/03/15/investing/brics...   \n",
       "4  https://www.cnn.com/2022/03/15/business/russia...   \n",
       "\n",
       "                                            Headline  \\\n",
       "0  There's a shortage of truckers, but TuSimple t...   \n",
       "1  Bioservo's robotic 'Ironhand' could protect fa...   \n",
       "2  This swarm of robots gets smarter the more it ...   \n",
       "3  Russia is no longer an option for investors. T...   \n",
       "4  Russian energy investment ban part of new EU s...   \n",
       "\n",
       "                                         Description  \\\n",
       "0  The e-commerce boom has exacerbated a global t...   \n",
       "1  Working in a factory can mean doing the same t...   \n",
       "2  In a Hong Kong warehouse, a swarm of autonomou...   \n",
       "3  For many years, the world's most popular emerg...   \n",
       "4  The European Union formally approved on Tuesda...   \n",
       "\n",
       "                                            Keywords  \\\n",
       "0  world, There's a shortage of truckers, but TuS...   \n",
       "1  world, Bioservo's robotic 'Ironhand' could pro...   \n",
       "2  asia, This swarm of robots gets smarter the mo...   \n",
       "3  investing, Russia is no longer an option for i...   \n",
       "4  business, Russian energy investment ban part o...   \n",
       "\n",
       "                                     Second headline  \\\n",
       "0  There's a shortage of truckers, but TuSimple t...   \n",
       "1  A robotic 'Ironhand' could protect factory wor...   \n",
       "2  This swarm of robots gets smarter the more it ...   \n",
       "3  Russia is no longer an option for investors. T...   \n",
       "4  EU bans investment in Russian energy in new sa...   \n",
       "\n",
       "                                        Article text  \n",
       "0   (CNN)Right now, there's a shortage of truck d...  \n",
       "1   (CNN)Working in a factory or warehouse can me...  \n",
       "2   (CNN)In a Hong Kong warehouse, a swarm of aut...  \n",
       "3  New York (CNN Business)For many years, the wor...  \n",
       "4  The European Union formally approved on Tuesda...  "
      ]
     },
     "execution_count": 9,
     "metadata": {},
     "output_type": "execute_result"
    }
   ],
   "source": [
    "df.head()"
   ]
  },
  {
   "cell_type": "code",
   "execution_count": 10,
   "id": "cd19c16d-2902-4973-98ff-aa3dd7b49844",
   "metadata": {},
   "outputs": [],
   "source": [
    "df =df.drop(['Index', 'Date published', 'Category', 'Section', 'Url', 'Headline', 'Description', 'Keywords', 'Second headline', 'Author'], axis =1)"
   ]
  },
  {
   "cell_type": "code",
   "execution_count": 11,
   "id": "e64ade89-9aff-4c8f-843a-fa54b7802029",
   "metadata": {},
   "outputs": [
    {
     "data": {
      "text/html": [
       "<div>\n",
       "<style scoped>\n",
       "    .dataframe tbody tr th:only-of-type {\n",
       "        vertical-align: middle;\n",
       "    }\n",
       "\n",
       "    .dataframe tbody tr th {\n",
       "        vertical-align: top;\n",
       "    }\n",
       "\n",
       "    .dataframe thead th {\n",
       "        text-align: right;\n",
       "    }\n",
       "</style>\n",
       "<table border=\"1\" class=\"dataframe\">\n",
       "  <thead>\n",
       "    <tr style=\"text-align: right;\">\n",
       "      <th></th>\n",
       "      <th>Article text</th>\n",
       "    </tr>\n",
       "  </thead>\n",
       "  <tbody>\n",
       "    <tr>\n",
       "      <th>0</th>\n",
       "      <td>(CNN)Right now, there's a shortage of truck d...</td>\n",
       "    </tr>\n",
       "    <tr>\n",
       "      <th>1</th>\n",
       "      <td>(CNN)Working in a factory or warehouse can me...</td>\n",
       "    </tr>\n",
       "    <tr>\n",
       "      <th>2</th>\n",
       "      <td>(CNN)In a Hong Kong warehouse, a swarm of aut...</td>\n",
       "    </tr>\n",
       "    <tr>\n",
       "      <th>3</th>\n",
       "      <td>New York (CNN Business)For many years, the wor...</td>\n",
       "    </tr>\n",
       "    <tr>\n",
       "      <th>4</th>\n",
       "      <td>The European Union formally approved on Tuesda...</td>\n",
       "    </tr>\n",
       "  </tbody>\n",
       "</table>\n",
       "</div>"
      ],
      "text/plain": [
       "                                        Article text\n",
       "0   (CNN)Right now, there's a shortage of truck d...\n",
       "1   (CNN)Working in a factory or warehouse can me...\n",
       "2   (CNN)In a Hong Kong warehouse, a swarm of aut...\n",
       "3  New York (CNN Business)For many years, the wor...\n",
       "4  The European Union formally approved on Tuesda..."
      ]
     },
     "execution_count": 11,
     "metadata": {},
     "output_type": "execute_result"
    }
   ],
   "source": [
    "df.head()"
   ]
  },
  {
   "cell_type": "code",
   "execution_count": 12,
   "id": "0ae224c1-4971-4c42-a0ae-8c7e86712258",
   "metadata": {},
   "outputs": [
    {
     "name": "stdout",
     "output_type": "stream",
     "text": [
      "The number of NaN values is: 0\n"
     ]
    }
   ],
   "source": [
    "NaN_values = df['Article text'].isnull().sum()\n",
    " \n",
    "print('The number of NaN values is: ' + str(NaN_values))"
   ]
  },
  {
   "cell_type": "code",
   "execution_count": 3,
   "id": "052921f5-d3a2-47a1-974e-866cf4b55bff",
   "metadata": {},
   "outputs": [
    {
     "name": "stdout",
     "output_type": "stream",
     "text": [
      "Requirement already satisfied: pip in c:\\users\\mtsil\\appdata\\local\\programs\\python\\python39\\lib\\site-packages (23.2.1)\n",
      "Note: you may need to restart the kernel to use updated packages.\n"
     ]
    },
    {
     "name": "stderr",
     "output_type": "stream",
     "text": [
      "WARNING: Ignoring invalid distribution -ip (c:\\users\\mtsil\\appdata\\local\\programs\\python\\python39\\lib\\site-packages)\n",
      "WARNING: Ignoring invalid distribution -ip (c:\\users\\mtsil\\appdata\\local\\programs\\python\\python39\\lib\\site-packages)\n"
     ]
    }
   ],
   "source": [
    "pip install --upgrade pip"
   ]
  },
  {
   "cell_type": "code",
   "execution_count": 4,
   "id": "46923d2e-5d04-4b05-8d56-57d80628d2ac",
   "metadata": {},
   "outputs": [
    {
     "name": "stdout",
     "output_type": "stream",
     "text": [
      "Collecting nltk\n",
      "  Using cached nltk-3.8.1-py3-none-any.whl (1.5 MB)\n",
      "Collecting click (from nltk)\n",
      "  Obtaining dependency information for click from https://files.pythonhosted.org/packages/00/2e/d53fa4befbf2cfa713304affc7ca780ce4fc1fd8710527771b58311a3229/click-8.1.7-py3-none-any.whl.metadata\n",
      "  Downloading click-8.1.7-py3-none-any.whl.metadata (3.0 kB)\n",
      "Collecting joblib (from nltk)\n",
      "  Obtaining dependency information for joblib from https://files.pythonhosted.org/packages/10/40/d551139c85db202f1f384ba8bcf96aca2f329440a844f924c8a0040b6d02/joblib-1.3.2-py3-none-any.whl.metadata\n",
      "  Downloading joblib-1.3.2-py3-none-any.whl.metadata (5.4 kB)\n",
      "Collecting regex>=2021.8.3 (from nltk)\n",
      "  Obtaining dependency information for regex>=2021.8.3 from https://files.pythonhosted.org/packages/04/30/12624697d49c42a4f011035c9948c3d829eaddd01e20966ec5ae7556d84c/regex-2023.8.8-cp39-cp39-win_amd64.whl.metadata\n",
      "  Downloading regex-2023.8.8-cp39-cp39-win_amd64.whl.metadata (42 kB)\n",
      "     ---------------------------------------- 0.0/42.0 kB ? eta -:--:--\n",
      "     ----------------------------- ---------- 30.7/42.0 kB ? eta -:--:--\n",
      "     -------------------------------------- 42.0/42.0 kB 512.6 kB/s eta 0:00:00\n",
      "Collecting tqdm (from nltk)\n",
      "  Obtaining dependency information for tqdm from https://files.pythonhosted.org/packages/00/e5/f12a80907d0884e6dff9c16d0c0114d81b8cd07dc3ae54c5e962cc83037e/tqdm-4.66.1-py3-none-any.whl.metadata\n",
      "  Downloading tqdm-4.66.1-py3-none-any.whl.metadata (57 kB)\n",
      "     ---------------------------------------- 0.0/57.6 kB ? eta -:--:--\n",
      "     --------------------- ------------------ 30.7/57.6 kB ? eta -:--:--\n",
      "     -------------------------------------- 57.6/57.6 kB 751.9 kB/s eta 0:00:00\n",
      "Requirement already satisfied: colorama in c:\\users\\mtsil\\appdata\\local\\programs\\python\\python39\\lib\\site-packages (from click->nltk) (0.4.6)\n",
      "Using cached regex-2023.8.8-cp39-cp39-win_amd64.whl (268 kB)\n",
      "Using cached click-8.1.7-py3-none-any.whl (97 kB)\n",
      "Downloading joblib-1.3.2-py3-none-any.whl (302 kB)\n",
      "   ---------------------------------------- 0.0/302.2 kB ? eta -:--:--\n",
      "   --------- ------------------------------ 71.7/302.2 kB 2.0 MB/s eta 0:00:01\n",
      "   --------- ------------------------------ 71.7/302.2 kB 2.0 MB/s eta 0:00:01\n",
      "   -------------------- ------------------- 153.6/302.2 kB 1.3 MB/s eta 0:00:01\n",
      "   -------------------- ------------------- 153.6/302.2 kB 1.3 MB/s eta 0:00:01\n",
      "   -------------------- ------------------- 153.6/302.2 kB 1.3 MB/s eta 0:00:01\n",
      "   ---------------------------------------  297.0/302.2 kB 1.1 MB/s eta 0:00:01\n",
      "   ---------------------------------------- 302.2/302.2 kB 1.0 MB/s eta 0:00:00\n",
      "Using cached tqdm-4.66.1-py3-none-any.whl (78 kB)\n",
      "Installing collected packages: tqdm, regex, joblib, click, nltk\n",
      "Successfully installed click-8.1.7 joblib-1.3.2 nltk-3.8.1 regex-2023.8.8 tqdm-4.66.1\n",
      "Note: you may need to restart the kernel to use updated packages.\n"
     ]
    },
    {
     "name": "stderr",
     "output_type": "stream",
     "text": [
      "WARNING: Ignoring invalid distribution -ip (c:\\users\\mtsil\\appdata\\local\\programs\\python\\python39\\lib\\site-packages)\n",
      "WARNING: Ignoring invalid distribution -ip (c:\\users\\mtsil\\appdata\\local\\programs\\python\\python39\\lib\\site-packages)\n"
     ]
    }
   ],
   "source": [
    "pip install nltk"
   ]
  },
  {
   "cell_type": "code",
   "execution_count": 13,
   "id": "e2fbaca4-bc55-4fdb-81b4-1e793cc5df0f",
   "metadata": {},
   "outputs": [],
   "source": [
    "import numpy as np\n",
    "import nltk\n",
    "from nltk.tokenize import sent_tokenize\n",
    "\n",
    "# number of words\n",
    "df1 = df[\"Article text\"].map(lambda x: len(x.split()))\n",
    "\n",
    "# number of sentences\n",
    "df2= df[\"Article text\"].map(lambda x: len(sent_tokenize(x)))\n",
    "\n",
    "# number of hashtags\n",
    "df3 = df[\"Article text\"].map(lambda x: x.count(\"#\"))\n",
    "\n",
    "#number of websites\n",
    "df4 = df[\"Article text\"].map(lambda x: x.count(\"http\"))\n",
    "\n",
    "# Average word length\n",
    "df5 = df[\"Article text\"].map(lambda x: np.mean([len(w) for w in str(x).split()]))\n",
    "\n",
    "# Average sentence length\n",
    "df6 = df[\"Article text\"].map(lambda x: np.mean([len(w.split()) for w in sent_tokenize(x)]))"
   ]
  },
  {
   "cell_type": "code",
   "execution_count": 14,
   "id": "d7ffb85f-9f69-4771-aa7d-7efdeb4d73f3",
   "metadata": {},
   "outputs": [
    {
     "data": {
      "text/html": [
       "<div>\n",
       "<style scoped>\n",
       "    .dataframe tbody tr th:only-of-type {\n",
       "        vertical-align: middle;\n",
       "    }\n",
       "\n",
       "    .dataframe tbody tr th {\n",
       "        vertical-align: top;\n",
       "    }\n",
       "\n",
       "    .dataframe thead th {\n",
       "        text-align: right;\n",
       "    }\n",
       "</style>\n",
       "<table border=\"1\" class=\"dataframe\">\n",
       "  <thead>\n",
       "    <tr style=\"text-align: right;\">\n",
       "      <th></th>\n",
       "      <th>num_words</th>\n",
       "      <th>num_sentences</th>\n",
       "      <th>num_hashtags</th>\n",
       "      <th>num_websites</th>\n",
       "      <th>word_avg</th>\n",
       "      <th>sent_avg</th>\n",
       "    </tr>\n",
       "  </thead>\n",
       "  <tbody>\n",
       "    <tr>\n",
       "      <th>0</th>\n",
       "      <td>2033</td>\n",
       "      <td>78</td>\n",
       "      <td>0</td>\n",
       "      <td>0</td>\n",
       "      <td>5.079193</td>\n",
       "      <td>26.064103</td>\n",
       "    </tr>\n",
       "    <tr>\n",
       "      <th>1</th>\n",
       "      <td>932</td>\n",
       "      <td>37</td>\n",
       "      <td>0</td>\n",
       "      <td>0</td>\n",
       "      <td>5.237124</td>\n",
       "      <td>25.297297</td>\n",
       "    </tr>\n",
       "    <tr>\n",
       "      <th>2</th>\n",
       "      <td>546</td>\n",
       "      <td>20</td>\n",
       "      <td>0</td>\n",
       "      <td>0</td>\n",
       "      <td>5.256410</td>\n",
       "      <td>27.300000</td>\n",
       "    </tr>\n",
       "    <tr>\n",
       "      <th>3</th>\n",
       "      <td>533</td>\n",
       "      <td>24</td>\n",
       "      <td>0</td>\n",
       "      <td>0</td>\n",
       "      <td>5.200750</td>\n",
       "      <td>22.416667</td>\n",
       "    </tr>\n",
       "    <tr>\n",
       "      <th>4</th>\n",
       "      <td>489</td>\n",
       "      <td>9</td>\n",
       "      <td>0</td>\n",
       "      <td>0</td>\n",
       "      <td>5.378323</td>\n",
       "      <td>54.555556</td>\n",
       "    </tr>\n",
       "    <tr>\n",
       "      <th>...</th>\n",
       "      <td>...</td>\n",
       "      <td>...</td>\n",
       "      <td>...</td>\n",
       "      <td>...</td>\n",
       "      <td>...</td>\n",
       "      <td>...</td>\n",
       "    </tr>\n",
       "    <tr>\n",
       "      <th>4071</th>\n",
       "      <td>226</td>\n",
       "      <td>7</td>\n",
       "      <td>0</td>\n",
       "      <td>0</td>\n",
       "      <td>5.721239</td>\n",
       "      <td>33.142857</td>\n",
       "    </tr>\n",
       "    <tr>\n",
       "      <th>4072</th>\n",
       "      <td>173</td>\n",
       "      <td>5</td>\n",
       "      <td>0</td>\n",
       "      <td>0</td>\n",
       "      <td>5.445087</td>\n",
       "      <td>34.600000</td>\n",
       "    </tr>\n",
       "    <tr>\n",
       "      <th>4073</th>\n",
       "      <td>677</td>\n",
       "      <td>15</td>\n",
       "      <td>1</td>\n",
       "      <td>0</td>\n",
       "      <td>5.403250</td>\n",
       "      <td>45.600000</td>\n",
       "    </tr>\n",
       "    <tr>\n",
       "      <th>4074</th>\n",
       "      <td>516</td>\n",
       "      <td>9</td>\n",
       "      <td>0</td>\n",
       "      <td>0</td>\n",
       "      <td>5.098837</td>\n",
       "      <td>57.444444</td>\n",
       "    </tr>\n",
       "    <tr>\n",
       "      <th>4075</th>\n",
       "      <td>518</td>\n",
       "      <td>22</td>\n",
       "      <td>0</td>\n",
       "      <td>0</td>\n",
       "      <td>4.913127</td>\n",
       "      <td>23.545455</td>\n",
       "    </tr>\n",
       "  </tbody>\n",
       "</table>\n",
       "<p>4076 rows × 6 columns</p>\n",
       "</div>"
      ],
      "text/plain": [
       "      num_words  num_sentences  num_hashtags  num_websites  word_avg  \\\n",
       "0          2033             78             0             0  5.079193   \n",
       "1           932             37             0             0  5.237124   \n",
       "2           546             20             0             0  5.256410   \n",
       "3           533             24             0             0  5.200750   \n",
       "4           489              9             0             0  5.378323   \n",
       "...         ...            ...           ...           ...       ...   \n",
       "4071        226              7             0             0  5.721239   \n",
       "4072        173              5             0             0  5.445087   \n",
       "4073        677             15             1             0  5.403250   \n",
       "4074        516              9             0             0  5.098837   \n",
       "4075        518             22             0             0  4.913127   \n",
       "\n",
       "       sent_avg  \n",
       "0     26.064103  \n",
       "1     25.297297  \n",
       "2     27.300000  \n",
       "3     22.416667  \n",
       "4     54.555556  \n",
       "...         ...  \n",
       "4071  33.142857  \n",
       "4072  34.600000  \n",
       "4073  45.600000  \n",
       "4074  57.444444  \n",
       "4075  23.545455  \n",
       "\n",
       "[4076 rows x 6 columns]"
      ]
     },
     "execution_count": 14,
     "metadata": {},
     "output_type": "execute_result"
    }
   ],
   "source": [
    "df=pd.concat([df1, df2, df3, df4, df5, df6], keys=('num_words','num_sentences', 'num_hashtags', 'num_websites', 'word_avg', 'sent_avg'), axis = 1)\n",
    "df"
   ]
  },
  {
   "cell_type": "code",
   "execution_count": 16,
   "id": "384da704-3653-4844-95bb-c671791f6c31",
   "metadata": {},
   "outputs": [],
   "source": [
    "import pandas as pd\n",
    "df = pd.read_csv(r'C:\\Users\\mtsil\\OneDrive\\Documents\\CNN_Articles.csv', encoding='iso-8859-1')\n",
    "df =df.drop(['Index', 'Date published', 'Category', 'Section', 'Url', 'Headline', 'Description', 'Keywords', 'Second headline', 'Author'], axis =1)"
   ]
  },
  {
   "cell_type": "code",
   "execution_count": 17,
   "id": "b0390985-ab6b-4cfc-8057-1f9044c10409",
   "metadata": {},
   "outputs": [
    {
     "data": {
      "text/plain": [
       "' (CNN)Dolly Parton, one of popular music\\'s most beloved stars, is taking herself out of the running for the Rock & Roll Hall of Fame\\'s 2022 class of inductees. In a statement shared to her social media accounts, the country chanteuse said that while she was \"extremely flattered and grateful\" for the nomination, she didn\\'t feel she\\'d \"earned that right.\" \"I really do not want votes to be split because of me, so I must respectfully bow out,\" she said. Parton was the sole country star on this year\\'s ballot, which also included Eminem, A Tribe Called Quest and Dionne Warwick. She said she hoped the hall of fame would consider her again one day if she\\'s \"ever worthy.\"The 2022 Rock & Roll Hall of Fame nominees include Dolly Parton and A Tribe Called QuestRead More\"This has, however, inspired me to put out a hopefully great rock \\'n\\' roll album at some point in the future, which I have always wanted to do!\" she said, noting her husband, Carl Dean, \"has always encouraged [her] to do one.\"The Rock & Roll Hall of Fame has made an effort in recent years to nominate and induct artists who aren\\'t traditional rock artists but have made major contributions to popular music and influenced other musicians. Previously inducted artists who align more with other genres include The Supremes, Johnny Cash and Madonna. But it wasn\\'t until 2007 that the hall of fame inducted its first rap group, Grandmaster Flash and the Furious Five. Earlier this year, when announcing the newest slate of nominees, Chairman of the Rock and Roll Hall of Fame Foundation John Sykes said the artists chosen each had \"a profound impact on the sound of youth culture.\"The current criteria for inductees doesn\\'t require them to record within the rock genre -- to be eligible, artists must have released their first commercial recording 25 years earlier. This year\\'s inductees -- now down one likely shoo-in -- will be announced in May, with an induction ceremony to follow in the fall.'"
      ]
     },
     "execution_count": 17,
     "metadata": {},
     "output_type": "execute_result"
    }
   ],
   "source": [
    "df['Article text'][53]"
   ]
  },
  {
   "cell_type": "code",
   "execution_count": 35,
   "id": "4d5647fe-de33-4e34-b293-01f4e587a7c7",
   "metadata": {},
   "outputs": [],
   "source": [
    "df.to_csv(r'C:\\Users\\mtsil\\OneDrive\\Documents\\clean_articles.csv', columns=['Article text'], index= False)"
   ]
  },
  {
   "cell_type": "code",
   "execution_count": 20,
   "id": "d5a87253-2bac-4679-9a66-e81c427fbfc7",
   "metadata": {},
   "outputs": [
    {
     "name": "stdout",
     "output_type": "stream",
     "text": [
      "Collecting contractions\n",
      "  Using cached contractions-0.1.73-py2.py3-none-any.whl (8.7 kB)\n",
      "Collecting textsearch>=0.0.21 (from contractions)\n",
      "  Using cached textsearch-0.0.24-py2.py3-none-any.whl (7.6 kB)\n",
      "Collecting anyascii (from textsearch>=0.0.21->contractions)\n",
      "  Downloading anyascii-0.3.2-py3-none-any.whl (289 kB)\n",
      "     ---------------------------------------- 0.0/289.9 kB ? eta -:--:--\n",
      "     -------- ------------------------------ 61.4/289.9 kB 1.1 MB/s eta 0:00:01\n",
      "     ---------------- --------------------- 122.9/289.9 kB 1.4 MB/s eta 0:00:01\n",
      "     ------------------------------------ - 276.5/289.9 kB 1.9 MB/s eta 0:00:01\n",
      "     -------------------------------------- 289.9/289.9 kB 1.8 MB/s eta 0:00:00\n",
      "Collecting pyahocorasick (from textsearch>=0.0.21->contractions)\n",
      "  Downloading pyahocorasick-2.0.0-cp39-cp39-win_amd64.whl (39 kB)\n",
      "Installing collected packages: pyahocorasick, anyascii, textsearch, contractions\n",
      "Successfully installed anyascii-0.3.2 contractions-0.1.73 pyahocorasick-2.0.0 textsearch-0.0.24\n",
      "Note: you may need to restart the kernel to use updated packages.\n"
     ]
    },
    {
     "name": "stderr",
     "output_type": "stream",
     "text": [
      "WARNING: Ignoring invalid distribution -ip (c:\\users\\mtsil\\appdata\\local\\programs\\python\\python39\\lib\\site-packages)\n",
      "WARNING: Ignoring invalid distribution -ip (c:\\users\\mtsil\\appdata\\local\\programs\\python\\python39\\lib\\site-packages)\n"
     ]
    }
   ],
   "source": [
    "pip install contractions"
   ]
  },
  {
   "cell_type": "code",
   "execution_count": 36,
   "id": "1c15a174-45c4-4afe-999a-9f5fa7c8ebb8",
   "metadata": {},
   "outputs": [],
   "source": [
    "import contractions\n",
    "import re\n",
    "import string\n",
    "\n",
    "def text_clean(text):\n",
    "    text = contractions.fix(text) # contraction expansion\n",
    "    text = text.lower() # lowercase\n",
    "    text = re.sub(r'[^\\w\\s\\.\\']', ' ', text) # punctuation & special characters, but keep full stops and possessive apostrophes\n",
    "    text = \" \".join(text.split()) # white spaces\n",
    "    text = re.sub('http://\\S+|https://\\S+', '', text) # URLs\n",
    "   \n",
    "    return text\n",
    "\n",
    "df[\"text_clean\"] = df[\"Article text\"].map(lambda x: text_clean(x))"
   ]
  },
  {
   "cell_type": "code",
   "execution_count": 37,
   "id": "29533d43-564e-4748-b31d-be203349a37a",
   "metadata": {},
   "outputs": [
    {
     "data": {
      "text/plain": [
       "0    cnn right now there is a shortage of truck drivers in the us and worldwide exacerbated by the e commerce boom brought on by the pandemic. one solution to the problem is autonomous trucks and several companies are in a race to be the first to launch one. among them is san diego based tusimple.founded in 2015 tusimple has completed about 2 million miles of road tests with its 70 prototype trucks across the us china and europe. although these are simply commercially available trucks retrofitted with its technology tusimple has deals in place with two of the world's largest truck manufacturers navistar in the us and traton volkswagen's trucking business in europe to design and build fully autonomous models which it hopes to launch by 2024. photos the yara birkeland is what its builders call the world's first zero emission autonomous cargo ship. the ship is scheduled to make its first journey between two norwegian towns before the end of the year. click through to see more forms of transport set to transform the future.hide caption 1 of 13 photos pictured here as a rendering oceanbird is a wind powered transatlantic car carrier that cuts carbon emissions by 90 compared to a standard car carrier.hide caption 2 of 13 photos it is not just maritime ships that are going green. cities around the world are adopting electric ferries. norwegian startup zeabuz hopes its self driving electric ferry pictured here as a rendering will help revive urban waterways.hide caption 3 of 13 photos in china a new maglev high speed train rolls off the production line in qingdao east china's shandong province on july 20. it has a top speed of 600 km per hour currently the fastest ground vehicle available globally. hide caption 4 of 13 photos reaching speeds of up to 1 000 kilometers 620 miles per hour hyperloop could be a sustainable replacement to short haul flights. dutch company hardt shown here as a rendering started work on its hyperloop test facility in europe anticipated to open in 2022.hide caption 5 of 13 photos hyperloop is like a bullet train without tracks and rails. floating pods are propelled through a low pressure steel tube using magnetic levitation. virgin has been running tests with passengers on its xp 2 vehicle pictured here.hide caption 6 of 13 photos low carbon travel is not just about switching to sustainable fuel sources it is also about redesigning the transport itself. a flying v plane designed by delft's university of technology in the netherlands and dutch airline klm can cut fuel consumption by 20 . ultimately researchers hope to switch out the kerosene with a sustainable fuel source like liquid hydrogen.hide caption 7 of 13 photos hydrogen aviation could provide a sustainable solution for short and medium haul flights. in september airbus unveiled plans for three hydrogen powered zero emission aircraft which can carry 100 to 200 passengers. it hopes to launch the first zeroe aircraft in 2035.hide caption 8 of 13 photos in december 2019 canadian airline harbour air flew the world's first all electric zero emission commercial aircraft. the six seater seaplane was retrofitted with magnix's magni500 all electric motor. harbour air which carries half a million passengers annually hopes to become the world's first all electric airline. hide caption 9 of 13 photos in the case of electric bikes the future is now one retailer reported the sale of e bikes and e scooters had increased 230 this year. e bikes give the user a boost to their pedaling allowing them to go further with less effort. e bikes are now even available on ride share apps like uber.hide caption 10 of 13 photos while sleeper trains or buses might be the way most of us get some shut eye on overnight travel this rendering of a self driving hotel suite from toronto based designer steve lee of aprilli design studio might offer a plush alternative in the future.hide caption 11 of 13 photos in the uae these futuristic looking pods are undergoing testing on a 400 meter line in sharjah which borders dubai. belarus based usky transport says its pods can help cities solve traffic problems.hide caption 12 of 13 photos the coradia ilint by french rail transport company alstom is the world's first hydrogen powered passenger train. it began testing in germany in 2018 and in september 2020 entered regular service in austria.hide caption 13 of 13no sleeptusimple's latest road test involved hauling fresh produce 951 miles from nogales arizona to oklahoma city. the pickup and the dropoff were handled by a human driver but for the bulk of the route from tucson to dallas the truck drove itself. read more today because the system is not fully ready we have a safety driver and a safety engineer on board at all times when we are testing but we drove in full autonomy the driver was not touching the wheel said cheng lu tusimple's president and ceo. the journey was completed in 14 hours versus the usual 24 with a human driver mostly because a truck does not need to sleep. in the us a driver can only work 11 hours a day. we simply had a handoff when our first pair of drivers had to stop because they reached their 11 hours of operation said lu. that of course negates the advantage of an autonomous system so the idea is that once tusimple's trucks hit the market there will be no need to have anyone onboard. picking up the watermelons still required the human touch.unlike self driving cars which are a still a way from being commercially available tusimple trucks will not be required to operate in bustling city traffic but only on stretches of highway that have been thoroughly mapped via the company's own software. we collect data from the roads and we create this very detailed high definition map of each route. that adds another layer of safety for the vehicles said lu. as a result tusimple's trucks will only be able to self drive along these pre mapped trade corridors which lu calls virtual railroads and nowhere else. this swarm of robots gets smarter the more it worksaccording to the company in the us 80 of goods travel through just 10 of the nation's trade corridors so even selective mapping allows for capturing a large portion of the business. tusimple is currently mapping routes between arizona and texas and plans to have mapped routes across the nation by 2024. its plans are dependent on state legislation however because currently some states do not allow for testing of autonomous trucks on public roads. happier drivers the technology will add about 50 000 to the cost of a truck making the final price roughly 200 000. according to lu that is still cheaper than paying for a human driver. if you take 50 000 and divide it by 1 million miles the average lifespan of a truck that means you are adding five cents per mile. but you are saving the cost of a human driver which based on average us wages is about 80 000 to 120 000 per year or 80 cents to 1.20 per mile. today the direct labor cost is about 50 of the cost of operating a truck he said. read a robotic 'ironhand' could protect factory workers from injuriesthat does not mean driverless trucks will take away jobs according to lu. by focusing on the middle mile rather than on the pickup and delivery of the goods tusimple believes it can create new freight capacity without creating new demand for drivers while at the same time protecting existing jobs. a ups driver is dropping off 200 packages a day that is not what autonomy is meant for. we believe that every driver will be able to retire as a driver even if they enter the workforce today said lu. tusimple's autonomous fleet.instead tusimple aims to take over the routes between terminals and distribution centers which involve long stretches of monotonous driving. take phoenix to el paso that is a six hour drive. a person cannot make the round trip because it is more than 11 hours. but the truck can go back and forth all day the most mundane job that drivers do not want to do. that means you free up that human driver to do the first and the last mile pickup and delivery .they get to work a full day which is a more efficient use of their time and they get to go home at night to their family said lu.no distractions although lu says that the reliability of both the software and the hardware still needs to be increased tusimple is planning its first fully autonomous tests without a human safety driver in the cabin at all before the end of the year. the results of such tests will indicate whether the company can meet its goal to launch its own trucks by 2024. lu says that 7 000 have been reserved in the us alone. photos the robots running our warehouses photos the robots running our warehousesrobots are an increasingly familiar presence in warehouses. at the south east london warehouse run by british online supermarket ocado 3 000 robots fulfill shopping orders. when an order is sent to the warehouse the bots spring to life and head towards the container they require. scroll through to see more robots that are revolutionizing warehouses.hide caption 1 of 8 photos the robots running our warehousesin response to the coronavirus pandemic mit collaborated with ava robotics and the greater boston food bank to design a robot that can use uv light to sanitize the floor of a 4 000 square foot warehouse in just 30 minutes. hide caption 2 of 8 photos the robots running our warehousesseven foot model t robots produced by japanese startup telexistence have been stacking shelves in two of tokyo's largest convenience store franchises. featuring cameras microphones and sensors the model t uses three fingers to stock items such as bottled drinks cans and rice bowls. the robot is controlled by shop staff remotely.hide caption 3 of 8 photos the robots running our warehousesus company boston dynamics has become known for its advanced work robots. handle is made for the warehouse and equipped with an on board vision system. it can lift boxes weighing over 30 pounds. hide caption 4 of 8 photos the robots running our warehousesstretch is the latest robot from boston dynamics and can work in warehouses and distribution centers. designed to keep human workers out of harm's way stretch's tentacle like grippers mean it can manipulate boxes. hide caption 5 of 8 photos the robots running our warehousesalthough not specifically designed for warehouses boston dynamics' dog like robot spot can lift objects pick itself up after a fall open and walk through doors and even remind people to practice social distancing. hide caption 6 of 8 photos the robots running our warehousesthis robot is used to plant seeds and check plants at the nordic harvest vertical farm based in taastrup denmark. the indoor farm is one of the biggest in europe.hide caption 7 of 8 photos the robots running our warehousesrobots sort packages at a warehouse run by jd.com one of china's largest e commerce firms in wuhan china ahead of the annual singles day online shopping bonanza in 2019.hide caption 8 of 8 tusimple has prominent competitors such as google spinoff waymo and uber backed aurora but those are working on a wider range of self driving vehicles including passenger cars. tusimple is working exclusively on driverless trucks like us companies plus and embark. grayson brulte an autonomy expert at consulting firm brulte co. believes tusimple is on the right track. the biggest competitive advantage that tusimple has over its competitors is that their technology was purpose built for trucking. they are not trying to port an autonomy system built for passenger vehicles in dense urban environments to trucking or to build a virtual driver which can both drive passenger vehicles and class 8 trucks. these are different skills and different systems altogether he said. removing the human element on long trucking routes has other benefits. the company says its trucks react 15 times faster than human drivers and can see farther down the road even at night. in the us every year there are about 5 000 fatalities involving trucks and most are due to human error said lu. the truck does not get tired does not watch a movie or look at a phone. it does not get distracted.\n",
       "1                                                                                                                                                                                                                                                                                                                                                                                                                                                                                                                                                                                                                                                                                                                                                                                                                                                                                                                                                                                                                                                                                                                                                                                                                                                                                                                                                                                                                                                                                                                                                                                                                                                                                                                                                                                                                                                                                                                                                                                                                                                                                                                                                                                                                                                                                                                                                                                                                                                                                                                                                                                                                                                                                                                                                                                                                                                                                                                                                                                                                                                                                                                                                                                                                                                                                                                                                                                                                                                                                                                                                                                                                                                                                                                                                                                                                                                                                                                                                                                                                                                                                                                                                                                                                                                                                                                                                                                                                                                                                                                                                                                                                                                                                                                                                                                                                                                                                                                                                                                                                                                                                                                                                                                                                                                                                                                                                                                                                                                                                                                                                                                                                                                                                                                                                                                                                                                                                                                                                                                                                                                                                                                                                                                                                                                                                                                                                                                                                                                                                                                                                                                                                                                                                        cnn working in a factory or warehouse can mean doing the same task over and over and that repetition can lead to chronic injury. now a battery powered glove could help workers by taking some of the strain.the ironhand glove strengthens the wearer's grip meaning they do not have to use as much force to perform repetitive manual tasks. its developer bioservo says it can increase the wearer's hand strength by 20 . the swedish company describes the system as a soft exoskeleton. exoskeletons are an external device that supports and protects the body typically increasing strength and endurance. most have a rigid structure but the ironhand is soft like a regular glove. photos the robots running our warehousesrobots are an increasingly familiar presence in warehouses. at the south east london warehouse run by british online supermarket ocado 3 000 robots fulfill shopping orders. when an order is sent to the warehouse the bots spring to life and head towards the container they require. scroll through to see more robots that are revolutionizing warehouses.hide caption 1 of 8 photos the robots running our warehousesin response to the coronavirus pandemic mit collaborated with ava robotics and the greater boston food bank to design a robot that can use uv light to sanitize the floor of a 4 000 square foot warehouse in just 30 minutes. hide caption 2 of 8 photos the robots running our warehousesseven foot model t robots produced by japanese startup telexistence have been stacking shelves in two of tokyo's largest convenience store franchises. featuring cameras microphones and sensors the model t uses three fingers to stock items such as bottled drinks cans and rice bowls. the robot is controlled by shop staff remotely.hide caption 3 of 8 photos the robots running our warehousesus company boston dynamics has become known for its advanced work robots. handle is made for the warehouse and equipped with an on board vision system. it can lift boxes weighing over 30 pounds. hide caption 4 of 8 photos the robots running our warehousesstretch is the latest robot from boston dynamics and can work in warehouses and distribution centers. designed to keep human workers out of harm's way stretch's tentacle like grippers mean it can manipulate boxes. hide caption 5 of 8 photos the robots running our warehousesalthough not specifically designed for warehouses boston dynamics' dog like robot spot can lift objects pick itself up after a fall open and walk through doors and even remind people to practice social distancing. hide caption 6 of 8 photos the robots running our warehousesthis robot is used to plant seeds and check plants at the nordic harvest vertical farm based in taastrup denmark. the indoor farm is one of the biggest in europe.hide caption 7 of 8 photos the robots running our warehousesrobots sort packages at a warehouse run by jd.com one of china's largest e commerce firms in wuhan china ahead of the annual singles day online shopping bonanza in 2019.hide caption 8 of 8reducing fatigue when you have the glove on it provides strength and reduces the effort needed when lifting objects says mikael wester bioservo's marketing director. it is all in order to reduce fatigue and prevent strain injuries in the long run. the ironhand system was developed with general motors as a partner.read morethe system consists of a backpack which houses the power pack and artificial tendons that connect to the glove. there are sensors on each fingertip which switch on the motor when a user grabs an object. a remote control or app can be used to adjust the strength and sensitivity of the grip.wester says applications include assembly on the production line in the automotive industry using tools in construction and lifting heavy objects in warehouses.each ironhand system costs around â 6 000 7 275 . the device also collects data that allows the company to assess the wearer's risk of developing strain injuries. according to the european agency for safety and health at work work related neck and upper limb disorders are the most common occupational disease in europe costing national economies up to 2 of their gross national product.from nasa to general motors the glove was originally intended for workers in a very different setting to the factory floor. nasa developed an early version of the technology called robo glove to help astronauts grasp objects and carry out work in space. the ironhand system being used for assembling parts in the automobile industry. bioservo licensed the design in 2016 and then partnered with auto manufacturer general motors gm to develop the glove for its workers. why online supermarket ocado wants to take the human touch out of groceries ergonomics is really the field of trying to fit the jobs to the workers instead of the workers having to conform and adapt to the job says stephen krajcarski a senior manager with gm's ergonomics team. by using tools such as the ironhand we are really trying to mitigate any potential concerns or physical demands that may eventually because a medical concern for that individual operator. krajcarski says gm has helped bioservo to test and improve the ironhand by piloting it in a variety of jobs at its manufacturing plants. he says some workers have found it easy to use but adds that it is not suitable for all situations.the ironhand is just one of the exoskeletons gm is looking into. according to market research firm abi research the exoskeleton market will grow from 392 million in 2020 to 6.8 billion in 2030. if you look at exoskeletons this is just one of the tools that are out there says krajcarski. but this is an exciting technology. this story has been updated to correct the cost of the ironhand system.\n",
       "2                                                                                                                                                                                                                                                                                                                                                                                                                                                                                                                                                                                                                                                                                                                                                                                                                                                                                                                                                                                                                                                                                                                                                                                                                                                                                                                                                                                                                                                                                                                                                                                                                                                                                                                                                                                                                                                                                                                                                                                                                                                                                                                                                                                                                                                                                                                                                                                                                                                                                                                                                                                                                                                                                                                                                                                                                                                                                                                                                                                                                                                                                                                                                                                                                                                                                                                                                                                                                                                                                                                                                                                                                                                                                                                                                                                                                                                                                                                                                                                                                                                                                                                                                                                                                                                                                                                                                                                                                                                                                                                                                                                                                                                                                                                                                                                                                                                                                                                                                                                                                                                                                                                                                                                                                                                                                                                                                                                                                                                                                                                                                                                                                                                                                                                                                                                                                                                                                                                                                                                                                                                                                                                                                                                                                                                                                                                                                                                                                                                                                                                                                                                                                                                                                                                                                                                                                                                                                                                                                                                                                                                                                                                                                                                                                                                                                                                                                                                                                                                                                                                                                                                                                                                                                                                                                                                                                                                                                                                                                                                                                                                                                                                                                                                                                                                                                                                                                                                                                                                                                                                                                                                                                                                                                                                                                                                                                                                                                                                                                                                                                                                                                                                                                       cnn in a hong kong warehouse a swarm of autonomous robots works 24 7. they are not just working hard they are working smart as they operate they get better at their job.the autonomous mobile robots were developed by chinese startup geek . as they move around the warehouse they are guided by qr codes on the floor and using ai they are able to make their own decisions including what direction to travel and what route to take to their destination. photos the robots running our warehousesrobots are an increasingly familiar presence in warehouses. at the south east london warehouse run by british online supermarket ocado 3 000 robots fulfill shopping orders. when an order is sent to the warehouse the bots spring to life and head towards the container they require. scroll through to see more robots that are revolutionizing warehouses.hide caption 1 of 8 photos the robots running our warehousesin response to the coronavirus pandemic mit collaborated with ava robotics and the greater boston food bank to design a robot that can use uv light to sanitize the floor of a 4 000 square foot warehouse in just 30 minutes. hide caption 2 of 8 photos the robots running our warehousesseven foot model t robots produced by japanese startup telexistence have been stacking shelves in two of tokyo's largest convenience store franchises. featuring cameras microphones and sensors the model t uses three fingers to stock items such as bottled drinks cans and rice bowls. the robot is controlled by shop staff remotely.hide caption 3 of 8 photos the robots running our warehousesus company boston dynamics has become known for its advanced work robots. handle is made for the warehouse and equipped with an on board vision system. it can lift boxes weighing over 30 pounds. hide caption 4 of 8 photos the robots running our warehousesstretch is the latest robot from boston dynamics and can work in warehouses and distribution centers. designed to keep human workers out of harm's way stretch's tentacle like grippers mean it can manipulate boxes. hide caption 5 of 8 photos the robots running our warehousesalthough not specifically designed for warehouses boston dynamics' dog like robot spot can lift objects pick itself up after a fall open and walk through doors and even remind people to practice social distancing. hide caption 6 of 8 photos the robots running our warehousesthis robot is used to plant seeds and check plants at the nordic harvest vertical farm based in taastrup denmark. the indoor farm is one of the biggest in europe.hide caption 7 of 8 photos the robots running our warehousesrobots sort packages at a warehouse run by jd.com one of china's largest e commerce firms in wuhan china ahead of the annual singles day online shopping bonanza in 2019.hide caption 8 of 8a team tracks these movements and uses the data to improve their algorithms making the robots more efficient.robots have become commonplace in warehouses worldwide and geek says it has more than 15 000 robots in over 30 countries including in nike and decathlon warehouses. managing director lit fung says having robots that become more efficient over time helps companies meet demands for fast delivery as well as reducing labor costs and human error. read more everyone is looking for an automation solution to apply to their warehouse he says. watch the video for the full story.\n",
       "3                                                                                                                                                                                                                                                                                                                                                                                                                                                                                                                                                                                                                                                                                                                                                                                                                                                                                                                                                                                                                                                                                                                                                                                                                                                                                                                                                                                                                                                                                                                                                                                                                                                                                                                                                                                                                                                                                                                                                                                                                                                                                                                                                                                                                                                                                                                                                                                                                                                                                                                                                                                                                                                                                                                                                                                                                                                                                                                                                                                                                                                                                                                                                                                                                                                                                                                                                                                                                                                                                                                                                                                                                                                                                                                                                                                                                                                                                                                                                                                                                                                                                                                                                                                                                                                                                                                                                                                                                                                                                                                                                                                                                                                                                                                                                                                                                                                                                                                                                                                                                                                                                                                                                                                                                                                                                                                                                                                                                                                                                                                                                                                                                                                                                                                                                                                                                                                                                                                                                                                                                                                                                                                                                                                                                                                                                                                                                                                                                                                                                                                                                                                                                                                                                                                                                                                                                                                                                                                                                                                                                                                                                                                                                                                                                                                                                                                                                                                                                                                                                                                                                                                                                                                                                                                                                                                                                                                                                                                                                                                                                                                                                                                                                                                                                                                                                                                                                                                                                                                                                                                                                                                                                                                                                                                                                                                                                                                                                                                                                                                                                                                                                                                                                                                                                                                                              new york cnn business for many years the world's most popular emerging markets have been the so called brics brazil russia india china and south africa.but given that russia is no longer a market that westerners can access following the invasion of ukraine it might be time for investors to stop lumping all of the emerging markets together. the brics had their day in the sun and that has faded said eric winograd senior economist at alliancebernstein.several major us index providers have removed russian stocks from indexes at a price of zero or effectively zero. trading shares of several leading us listed russian companies such as search engine yandex and telecom mts have been halted. and the moscow stock exchange has been closed since february 25 the day after the invasion.russia could default on its debt within days the idea that a country as large as russia can be removed from indexes is a big deal winograd said.read moreit seems likely that russia will not be included in top emerging markets funds anytime soon. even for those westerners still willing to invest in russian assets it is not clear what comes next. some investors are asking about exposure to russia in emerging markets funds. with indexes starting to exclude russia it is still a wait and see game said mychal campos head of investing at betterment.for investors looking to get exposure to emerging markets winograd said each country should be looked at individually. the name of the game will be differentiation. do not invest in emerging markets based on an acronym winograd said. it is always strange to say that argentina and south korea are the same thing for example. they are not. forget the brics and look at ticks or mist to stick with the acronyms the shutdown of the russian stock market has essentially turned the brics into the bics â and that could be a permanent change said rahul sen sharma managing partner with indxx a global index provider. will investors ever embrace russia again if there is no liquidity it is a moot point. but it is also hard to believe that people will rush into russia anytime soon sen sharma told cnn business.sen sharma said some investors may start to look at other emerging markets to replace russia such as taiwan and south korea. the brics could become the ticks. he added that poland turkey and mexico are intriguing as are the philippines and indonesia. you could dub mexico indonesia south korea and turkey the mist markets. people love their acronyms sen sharma joked.of course any emerging market in europe â think poland â is inherently risky because of how close it is geographically to russia and ukraine. so other central and eastern european nations may be a hard sell for western investors.war in ukraine has sparked a scramble for dollarsother experts argue that investors are looking more at individual companies in emerging markets and less at the countries themselves. a typical investor sees emerging markets as a class of stocks. it is a piece of a portfolio said callie cox us investment analyst at etoro. the emerging markets landscape has been changing for awhile cox added noting that many investors have been skeptical of russia since its annexation of crimea in 2014. there has been more anxiety.\n",
       "4                                                                                                                                                                                                                                                                                                                                                                                                                                                                                                                                                                                                                                                                                                                                                                                                                                                                                                                                                                                                                                                                                                                                                                                                                                                                                                                                                                                                                                                                                                                                                                                                                                                                                                                                                                                                                                                                                                                                                                                                                                                                                                                                                                                                                                                                                                                                                                                                                                                                                                                                                                                                                                                                                                                                                                                                                                                                                                                                                                                                                                                                                                                                                                                                                                                                                                                                                                                                                                                                                                                                                                                                                                                                                                                                                                                                                                                                                                                                                                                                                                                                                                                                                                                                                                                                                                                                                                                                                                                                                                                                                                                                                                                                                                                                                                                                                                                                                                                                                                                                                                                                                                                                                                                                                                                                                                                                                                                                                                                                                                                                                                                                                                                                                                                                                                                                                                                                                                                                                                                                                                                                                                                                                                                                                                                                                                                                                                                                                                                                                                                                                                                                                                                                                                                                                                                                                                                                                                                                                                                                                                                                                                                                                                                                                                                                                                                                                                                                                                                                                                                                                                                                                                                                                                                                                                                                                                                                                                                                                                                                                                                                                                                                                                                                                                                                                                                                                                                                                                                                                                                                                                                                                                                                                                                                                                                                                                                                                                                                                                                                                                                                                                                                                                                                                                                                                                                                                                                                                                                    the european union formally approved on tuesday a new barrage of sanctions against russia for its invasion of ukraine which include bans on investments in the russian energy sector luxury goods exports and imports of steel products from russia.the sanctions which come into effect after publication in the eu official journal later on tuesday also freeze the assets of more business leaders who support the russian state including chelsea football club owner roman abramovich. the european commission said in a statement on tuesday that the sanctions included a far reaching ban on new investment across the russian energy sector with limited exceptions for civil nuclear energy and the transport of certain energy products back to the eu. the measure will hit russia's oil majors rosneft transneft and gazprom neft gzpfy but eu members will be still able to buy oil and gas from them an eu source told reuters.there will also be a total ban on transactions with some russian state owned enterprises linked to the kremlin's military industrial complex the eu executive said.read morethe bloc reached a preliminary agreement on the new sanctions on monday and no objections were raised before an agreed deadline.the ban on russian steel imports is estimated to affect 3.3 billion euros 3.6 billion worth of products the commission said.eu companies will also be no longer allowed to export any luxury goods worth more than 300 euros including jewelry. exports of cars costing more than 50 000 euros will also be banned eu sources said.the package also prohibits eu credit rating agencies from issuing ratings for russia and russian companies which the commission says will further restrict their access to european financial markets.the latest sanctions follow three rounds of punitive measures which included freezing of assets of the russian central bank and the exclusion from the swift banking system of some russian and belarusian banks.the eu also agreed on tuesday to strip russia of its most favored nation trade status opening the door to punitive tariffs on russian goods or outright import bans.uk slaps 35 tariff on russian vodkathe uk government also announced a fresh round of sanctions on russia on tuesday. it will ban the export of luxury goods to russia and will introduce tariffs on russian goods worth more than 1 billion. the additional 35 tariff will be applied to imports including vodka steel works of art and fur. the united kingdom will also deny russia and belarus access to its most favoured nation trading tariff for hundreds of their exports effectively depriving both countries of key benefits of their wto membership. our new tariffs will further isolate the russian economy from global trade ensuring it does not benefit from the rules based international system it does not respect. these tariffs build on the uk's existing work to starve russia's access to international finance sanction putin's cronies and exert maximum economic pressure on his regime finance minister rishi sunak said in a statement.â cnn's rob north contributed to this article.\n",
       "Name: text_clean, dtype: object"
      ]
     },
     "execution_count": 37,
     "metadata": {},
     "output_type": "execute_result"
    }
   ],
   "source": [
    "pd.set_option('display.max_colwidth', None)\n",
    "df[\"text_clean\"].head()"
   ]
  },
  {
   "cell_type": "code",
   "execution_count": 38,
   "id": "d43c71cb-ecfa-4122-bbdc-2ef1f5aeafd5",
   "metadata": {},
   "outputs": [
    {
     "data": {
      "text/plain": [
       "\"cnn dolly parton one of popular music's most beloved stars is taking herself out of the running for the rock roll hall of fame's 2022 class of inductees. in a statement shared to her social media accounts the country chanteuse said that while she was extremely flattered and grateful for the nomination she did not feel she would earned that right. i really do not want votes to be split because of me so i must respectfully bow out she said. parton was the sole country star on this year's ballot which also included eminem a tribe called quest and dionne warwick. she said she hoped the hall of fame would consider her again one day if she is ever worthy. the 2022 rock roll hall of fame nominees include dolly parton and a tribe called questread more this has however inspired me to put out a hopefully great rock 'n' roll album at some point in the future which i have always wanted to do she said noting her husband carl dean has always encouraged her to do one. the rock roll hall of fame has made an effort in recent years to nominate and induct artists who are not traditional rock artists but have made major contributions to popular music and influenced other musicians. previously inducted artists who align more with other genres include the supremes johnny cash and madonna. but it was not until 2007 that the hall of fame inducted its first rap group grandmaster flash and the furious five. earlier this year when announcing the newest slate of nominees chairman of the rock and roll hall of fame foundation john sykes said the artists chosen each had a profound impact on the sound of youth culture. the current criteria for inductees does not require them to record within the rock genre to be eligible artists must have released their first commercial recording 25 years earlier. this year's inductees now down one likely shoo in will be announced in may with an induction ceremony to follow in the fall.\""
      ]
     },
     "execution_count": 38,
     "metadata": {},
     "output_type": "execute_result"
    }
   ],
   "source": [
    "df['text_clean'][53]"
   ]
  },
  {
   "cell_type": "code",
   "execution_count": 39,
   "id": "10f24e15-930f-4632-93c0-d06683fa6be3",
   "metadata": {},
   "outputs": [],
   "source": [
    "df.to_csv(r'C:\\Users\\mtsil\\OneDrive\\Documents\\gpt.csv', columns=['text_clean'], index= False)"
   ]
  },
  {
   "cell_type": "code",
   "execution_count": 40,
   "id": "57124d12-3e1c-4550-b001-9222b45028e5",
   "metadata": {},
   "outputs": [
    {
     "name": "stdout",
     "output_type": "stream",
     "text": [
      "Collecting langchain\n",
      "  Obtaining dependency information for langchain from https://files.pythonhosted.org/packages/23/a0/fdc4e525d748cff3423b588964bf4c61b3e0c72d353690b61c533ce90f60/langchain-0.0.278-py3-none-any.whl.metadata\n",
      "  Downloading langchain-0.0.278-py3-none-any.whl.metadata (14 kB)\n",
      "Requirement already satisfied: PyYAML>=5.3 in c:\\users\\mtsil\\appdata\\local\\programs\\python\\python39\\lib\\site-packages (from langchain) (6.0.1)\n",
      "Collecting SQLAlchemy<3,>=1.4 (from langchain)\n",
      "  Obtaining dependency information for SQLAlchemy<3,>=1.4 from https://files.pythonhosted.org/packages/01/fb/becd158acfec58b7a34d04affe79df9f8e5f95aa2114b5dacf50a8752f20/SQLAlchemy-2.0.20-cp39-cp39-win_amd64.whl.metadata\n",
      "  Downloading SQLAlchemy-2.0.20-cp39-cp39-win_amd64.whl.metadata (9.7 kB)\n",
      "Collecting aiohttp<4.0.0,>=3.8.3 (from langchain)\n",
      "  Obtaining dependency information for aiohttp<4.0.0,>=3.8.3 from https://files.pythonhosted.org/packages/c2/7c/66aff492b444f0d089bd74ffcb7346ebc3521ba68c77ac5479a2b947091c/aiohttp-3.8.5-cp39-cp39-win_amd64.whl.metadata\n",
      "  Downloading aiohttp-3.8.5-cp39-cp39-win_amd64.whl.metadata (8.0 kB)\n",
      "Collecting async-timeout<5.0.0,>=4.0.0 (from langchain)\n",
      "  Obtaining dependency information for async-timeout<5.0.0,>=4.0.0 from https://files.pythonhosted.org/packages/a7/fa/e01228c2938de91d47b307831c62ab9e4001e747789d0b05baf779a6488c/async_timeout-4.0.3-py3-none-any.whl.metadata\n",
      "  Downloading async_timeout-4.0.3-py3-none-any.whl.metadata (4.2 kB)\n",
      "Collecting dataclasses-json<0.6.0,>=0.5.7 (from langchain)\n",
      "  Obtaining dependency information for dataclasses-json<0.6.0,>=0.5.7 from https://files.pythonhosted.org/packages/97/5f/e7cc90f36152810cab08b6c9c1125e8bcb9d76f8b3018d101b5f877b386c/dataclasses_json-0.5.14-py3-none-any.whl.metadata\n",
      "  Downloading dataclasses_json-0.5.14-py3-none-any.whl.metadata (22 kB)\n",
      "Collecting langsmith<0.1.0,>=0.0.21 (from langchain)\n",
      "  Obtaining dependency information for langsmith<0.1.0,>=0.0.21 from https://files.pythonhosted.org/packages/c8/79/ad5e818141473a61ff13caf3fddedcd642dc400d9dfa84eaa72c0ae7d69a/langsmith-0.0.30-py3-none-any.whl.metadata\n",
      "  Downloading langsmith-0.0.30-py3-none-any.whl.metadata (10 kB)\n",
      "Collecting numexpr<3.0.0,>=2.8.4 (from langchain)\n",
      "  Obtaining dependency information for numexpr<3.0.0,>=2.8.4 from https://files.pythonhosted.org/packages/41/17/22c110d3935e7201bdb33e9b96f50336cf2d06773d6cd89fdb1bb1214910/numexpr-2.8.5-cp39-cp39-win_amd64.whl.metadata\n",
      "  Downloading numexpr-2.8.5-cp39-cp39-win_amd64.whl.metadata (8.2 kB)\n",
      "Requirement already satisfied: numpy<2,>=1 in c:\\users\\mtsil\\appdata\\local\\programs\\python\\python39\\lib\\site-packages (from langchain) (1.25.2)\n",
      "Collecting pydantic<3,>=1 (from langchain)\n",
      "  Obtaining dependency information for pydantic<3,>=1 from https://files.pythonhosted.org/packages/82/06/fafdc75e48b248eff364b4249af4bcc6952225e8f20e8205820afc66e88e/pydantic-2.3.0-py3-none-any.whl.metadata\n",
      "  Downloading pydantic-2.3.0-py3-none-any.whl.metadata (148 kB)\n",
      "     ---------------------------------------- 0.0/148.8 kB ? eta -:--:--\n",
      "     --------------------- ----------------- 81.9/148.8 kB 2.2 MB/s eta 0:00:01\n",
      "     ------------------------------------ - 143.4/148.8 kB 1.7 MB/s eta 0:00:01\n",
      "     -------------------------------------- 148.8/148.8 kB 1.5 MB/s eta 0:00:00\n",
      "Requirement already satisfied: requests<3,>=2 in c:\\users\\mtsil\\appdata\\local\\programs\\python\\python39\\lib\\site-packages (from langchain) (2.31.0)\n",
      "Collecting tenacity<9.0.0,>=8.1.0 (from langchain)\n",
      "  Obtaining dependency information for tenacity<9.0.0,>=8.1.0 from https://files.pythonhosted.org/packages/f4/f1/990741d5bb2487d529d20a433210ffa136a367751e454214013b441c4575/tenacity-8.2.3-py3-none-any.whl.metadata\n",
      "  Downloading tenacity-8.2.3-py3-none-any.whl.metadata (1.0 kB)\n",
      "Requirement already satisfied: attrs>=17.3.0 in c:\\users\\mtsil\\appdata\\local\\programs\\python\\python39\\lib\\site-packages (from aiohttp<4.0.0,>=3.8.3->langchain) (23.1.0)\n",
      "Requirement already satisfied: charset-normalizer<4.0,>=2.0 in c:\\users\\mtsil\\appdata\\local\\programs\\python\\python39\\lib\\site-packages (from aiohttp<4.0.0,>=3.8.3->langchain) (3.2.0)\n",
      "Collecting multidict<7.0,>=4.5 (from aiohttp<4.0.0,>=3.8.3->langchain)\n",
      "  Using cached multidict-6.0.4-cp39-cp39-win_amd64.whl (28 kB)\n",
      "Collecting yarl<2.0,>=1.0 (from aiohttp<4.0.0,>=3.8.3->langchain)\n",
      "  Using cached yarl-1.9.2-cp39-cp39-win_amd64.whl (61 kB)\n",
      "Collecting frozenlist>=1.1.1 (from aiohttp<4.0.0,>=3.8.3->langchain)\n",
      "  Obtaining dependency information for frozenlist>=1.1.1 from https://files.pythonhosted.org/packages/f9/16/ef36f5b20ee10dba86d4b5223d55b416e97dfa2dbf5546f0c6d9aa8a26ba/frozenlist-1.4.0-cp39-cp39-win_amd64.whl.metadata\n",
      "  Downloading frozenlist-1.4.0-cp39-cp39-win_amd64.whl.metadata (5.3 kB)\n",
      "Collecting aiosignal>=1.1.2 (from aiohttp<4.0.0,>=3.8.3->langchain)\n",
      "  Using cached aiosignal-1.3.1-py3-none-any.whl (7.6 kB)\n",
      "Collecting marshmallow<4.0.0,>=3.18.0 (from dataclasses-json<0.6.0,>=0.5.7->langchain)\n",
      "  Obtaining dependency information for marshmallow<4.0.0,>=3.18.0 from https://files.pythonhosted.org/packages/ed/3c/cebfdcad015240014ff08b883d1c0c427f2ba45ae8c6572851b6ef136cad/marshmallow-3.20.1-py3-none-any.whl.metadata\n",
      "  Downloading marshmallow-3.20.1-py3-none-any.whl.metadata (7.8 kB)\n",
      "Collecting typing-inspect<1,>=0.4.0 (from dataclasses-json<0.6.0,>=0.5.7->langchain)\n",
      "  Obtaining dependency information for typing-inspect<1,>=0.4.0 from https://files.pythonhosted.org/packages/65/f3/107a22063bf27bdccf2024833d3445f4eea42b2e598abfbd46f6a63b6cb0/typing_inspect-0.9.0-py3-none-any.whl.metadata\n",
      "  Downloading typing_inspect-0.9.0-py3-none-any.whl.metadata (1.5 kB)\n",
      "Collecting annotated-types>=0.4.0 (from pydantic<3,>=1->langchain)\n",
      "  Obtaining dependency information for annotated-types>=0.4.0 from https://files.pythonhosted.org/packages/d8/f0/a2ee543a96cc624c35a9086f39b1ed2aa403c6d355dfe47a11ee5c64a164/annotated_types-0.5.0-py3-none-any.whl.metadata\n",
      "  Downloading annotated_types-0.5.0-py3-none-any.whl.metadata (11 kB)\n",
      "Collecting pydantic-core==2.6.3 (from pydantic<3,>=1->langchain)\n",
      "  Obtaining dependency information for pydantic-core==2.6.3 from https://files.pythonhosted.org/packages/15/e8/508c94592226d9ddf0696a54c9d3c03018842dedc734830de0affa9b0eef/pydantic_core-2.6.3-cp39-none-win_amd64.whl.metadata\n",
      "  Downloading pydantic_core-2.6.3-cp39-none-win_amd64.whl.metadata (6.6 kB)\n",
      "Requirement already satisfied: typing-extensions>=4.6.1 in c:\\users\\mtsil\\appdata\\local\\programs\\python\\python39\\lib\\site-packages (from pydantic<3,>=1->langchain) (4.7.1)\n",
      "Requirement already satisfied: idna<4,>=2.5 in c:\\users\\mtsil\\appdata\\local\\programs\\python\\python39\\lib\\site-packages (from requests<3,>=2->langchain) (3.4)\n",
      "Requirement already satisfied: urllib3<3,>=1.21.1 in c:\\users\\mtsil\\appdata\\local\\programs\\python\\python39\\lib\\site-packages (from requests<3,>=2->langchain) (2.0.4)\n",
      "Requirement already satisfied: certifi>=2017.4.17 in c:\\users\\mtsil\\appdata\\local\\programs\\python\\python39\\lib\\site-packages (from requests<3,>=2->langchain) (2023.7.22)\n",
      "Collecting greenlet!=0.4.17 (from SQLAlchemy<3,>=1.4->langchain)\n",
      "  Using cached greenlet-2.0.2-cp39-cp39-win_amd64.whl (192 kB)\n",
      "Requirement already satisfied: packaging>=17.0 in c:\\users\\mtsil\\appdata\\local\\programs\\python\\python39\\lib\\site-packages (from marshmallow<4.0.0,>=3.18.0->dataclasses-json<0.6.0,>=0.5.7->langchain) (23.1)\n",
      "Collecting mypy-extensions>=0.3.0 (from typing-inspect<1,>=0.4.0->dataclasses-json<0.6.0,>=0.5.7->langchain)\n",
      "  Using cached mypy_extensions-1.0.0-py3-none-any.whl (4.7 kB)\n",
      "Downloading langchain-0.0.278-py3-none-any.whl (1.6 MB)\n",
      "   ---------------------------------------- 0.0/1.6 MB ? eta -:--:--\n",
      "   --- ------------------------------------ 0.2/1.6 MB 4.6 MB/s eta 0:00:01\n",
      "   ----- ---------------------------------- 0.2/1.6 MB 4.1 MB/s eta 0:00:01\n",
      "   ------ --------------------------------- 0.3/1.6 MB 2.1 MB/s eta 0:00:01\n",
      "   --------- ------------------------------ 0.4/1.6 MB 2.2 MB/s eta 0:00:01\n",
      "   ------------- -------------------------- 0.5/1.6 MB 2.3 MB/s eta 0:00:01\n",
      "   -------------------- ------------------- 0.8/1.6 MB 2.7 MB/s eta 0:00:01\n",
      "   ----------------------- ---------------- 1.0/1.6 MB 2.9 MB/s eta 0:00:01\n",
      "   --------------------------- ------------ 1.1/1.6 MB 2.7 MB/s eta 0:00:01\n",
      "   ----------------------------------- ---- 1.4/1.6 MB 3.1 MB/s eta 0:00:01\n",
      "   ---------------------------------------- 1.6/1.6 MB 3.2 MB/s eta 0:00:00\n",
      "Using cached aiohttp-3.8.5-cp39-cp39-win_amd64.whl (327 kB)\n",
      "Using cached async_timeout-4.0.3-py3-none-any.whl (5.7 kB)\n",
      "Using cached dataclasses_json-0.5.14-py3-none-any.whl (26 kB)\n",
      "Downloading langsmith-0.0.30-py3-none-any.whl (35 kB)\n",
      "Using cached numexpr-2.8.5-cp39-cp39-win_amd64.whl (94 kB)\n",
      "Using cached pydantic-2.3.0-py3-none-any.whl (374 kB)\n",
      "Using cached pydantic_core-2.6.3-cp39-none-win_amd64.whl (1.7 MB)\n",
      "Using cached SQLAlchemy-2.0.20-cp39-cp39-win_amd64.whl (2.0 MB)\n",
      "Using cached tenacity-8.2.3-py3-none-any.whl (24 kB)\n",
      "Using cached annotated_types-0.5.0-py3-none-any.whl (11 kB)\n",
      "Using cached frozenlist-1.4.0-cp39-cp39-win_amd64.whl (44 kB)\n",
      "Using cached marshmallow-3.20.1-py3-none-any.whl (49 kB)\n",
      "Using cached typing_inspect-0.9.0-py3-none-any.whl (8.8 kB)\n",
      "Installing collected packages: tenacity, pydantic-core, numexpr, mypy-extensions, multidict, marshmallow, greenlet, frozenlist, async-timeout, annotated-types, yarl, typing-inspect, SQLAlchemy, pydantic, aiosignal, langsmith, dataclasses-json, aiohttp, langchain\n",
      "Successfully installed SQLAlchemy-2.0.20 aiohttp-3.8.5 aiosignal-1.3.1 annotated-types-0.5.0 async-timeout-4.0.3 dataclasses-json-0.5.14 frozenlist-1.4.0 greenlet-2.0.2 langchain-0.0.278 langsmith-0.0.30 marshmallow-3.20.1 multidict-6.0.4 mypy-extensions-1.0.0 numexpr-2.8.5 pydantic-2.3.0 pydantic-core-2.6.3 tenacity-8.2.3 typing-inspect-0.9.0 yarl-1.9.2\n",
      "Note: you may need to restart the kernel to use updated packages.\n"
     ]
    },
    {
     "name": "stderr",
     "output_type": "stream",
     "text": [
      "WARNING: Ignoring invalid distribution -ip (c:\\users\\mtsil\\appdata\\local\\programs\\python\\python39\\lib\\site-packages)\n",
      "WARNING: Ignoring invalid distribution -ip (c:\\users\\mtsil\\appdata\\local\\programs\\python\\python39\\lib\\site-packages)\n"
     ]
    }
   ],
   "source": [
    "pip install langchain"
   ]
  },
  {
   "cell_type": "code",
   "execution_count": 41,
   "id": "deb5df9f-0dd4-4901-9c10-90deb3235f15",
   "metadata": {},
   "outputs": [],
   "source": [
    "from langchain.document_loaders.csv_loader import CSVLoader\n",
    "\n",
    "loader = CSVLoader(file_path= \"C:/Users/mtsil/OneDrive/Documents/gpt.csv\",  encoding='iso-8859-1')\n",
    "docs = loader.load()\n"
   ]
  },
  {
   "cell_type": "code",
   "execution_count": 44,
   "id": "d4d532d7-1c7d-4920-8dce-07427a83466a",
   "metadata": {},
   "outputs": [
    {
     "data": {
      "text/plain": [
       "Document(page_content=\"text_clean: cnn dolly parton one of popular music's most beloved stars is taking herself out of the running for the rock roll hall of fame's 2022 class of inductees. in a statement shared to her social media accounts the country chanteuse said that while she was extremely flattered and grateful for the nomination she did not feel she would earned that right. i really do not want votes to be split because of me so i must respectfully bow out she said. parton was the sole country star on this year's ballot which also included eminem a tribe called quest and dionne warwick. she said she hoped the hall of fame would consider her again one day if she is ever worthy. the 2022 rock roll hall of fame nominees include dolly parton and a tribe called questread more this has however inspired me to put out a hopefully great rock 'n' roll album at some point in the future which i have always wanted to do she said noting her husband carl dean has always encouraged her to do one. the rock roll hall of fame has made an effort in recent years to nominate and induct artists who are not traditional rock artists but have made major contributions to popular music and influenced other musicians. previously inducted artists who align more with other genres include the supremes johnny cash and madonna. but it was not until 2007 that the hall of fame inducted its first rap group grandmaster flash and the furious five. earlier this year when announcing the newest slate of nominees chairman of the rock and roll hall of fame foundation john sykes said the artists chosen each had a profound impact on the sound of youth culture. the current criteria for inductees does not require them to record within the rock genre to be eligible artists must have released their first commercial recording 25 years earlier. this year's inductees now down one likely shoo in will be announced in may with an induction ceremony to follow in the fall.\", metadata={'source': 'C:/Users/mtsil/OneDrive/Documents/gpt.csv', 'row': 53})"
      ]
     },
     "execution_count": 44,
     "metadata": {},
     "output_type": "execute_result"
    }
   ],
   "source": [
    "docs[53]"
   ]
  },
  {
   "cell_type": "code",
   "execution_count": 46,
   "id": "c7e7a0ff-8aef-4714-b2d4-b11ec19a1eff",
   "metadata": {},
   "outputs": [
    {
     "name": "stdout",
     "output_type": "stream",
     "text": [
      "Collecting openaiNote: you may need to restart the kernel to use updated packages.\n",
      "\n",
      "  Obtaining dependency information for openai from https://files.pythonhosted.org/packages/f1/1f/3a0cb7d172f451b2ca8bf65d9196aa3b6878c010d461257c621e4bd48cad/openai-0.27.10-py3-none-any.whl.metadata\n",
      "  Downloading openai-0.27.10-py3-none-any.whl.metadata (13 kB)\n",
      "Requirement already satisfied: requests>=2.20 in c:\\users\\mtsil\\appdata\\local\\programs\\python\\python39\\lib\\site-packages (from openai) (2.31.0)\n",
      "Requirement already satisfied: tqdm in c:\\users\\mtsil\\appdata\\local\\programs\\python\\python39\\lib\\site-packages (from openai) (4.66.1)\n",
      "Requirement already satisfied: aiohttp in c:\\users\\mtsil\\appdata\\local\\programs\\python\\python39\\lib\\site-packages (from openai) (3.8.5)\n",
      "Requirement already satisfied: charset-normalizer<4,>=2 in c:\\users\\mtsil\\appdata\\local\\programs\\python\\python39\\lib\\site-packages (from requests>=2.20->openai) (3.2.0)\n",
      "Requirement already satisfied: idna<4,>=2.5 in c:\\users\\mtsil\\appdata\\local\\programs\\python\\python39\\lib\\site-packages (from requests>=2.20->openai) (3.4)\n",
      "Requirement already satisfied: urllib3<3,>=1.21.1 in c:\\users\\mtsil\\appdata\\local\\programs\\python\\python39\\lib\\site-packages (from requests>=2.20->openai) (2.0.4)\n",
      "Requirement already satisfied: certifi>=2017.4.17 in c:\\users\\mtsil\\appdata\\local\\programs\\python\\python39\\lib\\site-packages (from requests>=2.20->openai) (2023.7.22)\n",
      "Requirement already satisfied: attrs>=17.3.0 in c:\\users\\mtsil\\appdata\\local\\programs\\python\\python39\\lib\\site-packages (from aiohttp->openai) (23.1.0)\n",
      "Requirement already satisfied: multidict<7.0,>=4.5 in c:\\users\\mtsil\\appdata\\local\\programs\\python\\python39\\lib\\site-packages (from aiohttp->openai) (6.0.4)\n",
      "Requirement already satisfied: async-timeout<5.0,>=4.0.0a3 in c:\\users\\mtsil\\appdata\\local\\programs\\python\\python39\\lib\\site-packages (from aiohttp->openai) (4.0.3)\n",
      "Requirement already satisfied: yarl<2.0,>=1.0 in c:\\users\\mtsil\\appdata\\local\\programs\\python\\python39\\lib\\site-packages (from aiohttp->openai) (1.9.2)\n",
      "Requirement already satisfied: frozenlist>=1.1.1 in c:\\users\\mtsil\\appdata\\local\\programs\\python\\python39\\lib\\site-packages (from aiohttp->openai) (1.4.0)\n",
      "Requirement already satisfied: aiosignal>=1.1.2 in c:\\users\\mtsil\\appdata\\local\\programs\\python\\python39\\lib\\site-packages (from aiohttp->openai) (1.3.1)\n",
      "Requirement already satisfied: colorama in c:\\users\\mtsil\\appdata\\local\\programs\\python\\python39\\lib\\site-packages (from tqdm->openai) (0.4.6)\n",
      "Using cached openai-0.27.10-py3-none-any.whl (76 kB)\n",
      "Installing collected packages: openai\n",
      "Successfully installed openai-0.27.10\n"
     ]
    },
    {
     "name": "stderr",
     "output_type": "stream",
     "text": [
      "WARNING: Ignoring invalid distribution -ip (c:\\users\\mtsil\\appdata\\local\\programs\\python\\python39\\lib\\site-packages)\n",
      "WARNING: Ignoring invalid distribution -ip (c:\\users\\mtsil\\appdata\\local\\programs\\python\\python39\\lib\\site-packages)\n"
     ]
    }
   ],
   "source": [
    "pip install openai"
   ]
  },
  {
   "cell_type": "code",
   "execution_count": 47,
   "id": "66d2f348-4bab-43a9-89b1-c994f7adfe82",
   "metadata": {},
   "outputs": [],
   "source": [
    "import openai\n",
    "import os\n",
    "os.environ['OPENAI_API_KEY'] = \"my_openaikey\""
   ]
  },
  {
   "cell_type": "code",
   "execution_count": 49,
   "id": "49e50611-9351-4899-a447-8c4aa3ce85de",
   "metadata": {},
   "outputs": [],
   "source": [
    "from langchain.chat_models import ChatOpenAI\n",
    "\n",
    "from langchain.chains.summarize import load_summarize_chain\n",
    "\n",
    "llm = ChatOpenAI(temperature=0, model_name=\"gpt-3.5-turbo-16k\")"
   ]
  },
  {
   "cell_type": "code",
   "execution_count": 50,
   "id": "4d82d33c-38de-4381-a308-a8b7e70a149f",
   "metadata": {},
   "outputs": [],
   "source": [
    "from langchain.prompts import PromptTemplate"
   ]
  },
  {
   "cell_type": "code",
   "execution_count": 51,
   "id": "0acd97fd-c7ed-46b2-b449-e2d7fe1b2c4b",
   "metadata": {},
   "outputs": [],
   "source": [
    "map_custom_prompt='''\n",
    "Summarize the following text from the news articles in a clear and accurate way:\n",
    "TEXT:`{text}`\n",
    "Brief Summary:\n",
    "'''"
   ]
  },
  {
   "cell_type": "code",
   "execution_count": 52,
   "id": "bac088b9-b511-49b0-bd34-33ad5b1f6662",
   "metadata": {},
   "outputs": [],
   "source": [
    "map_prompt_template = PromptTemplate (\n",
    "    input_variables=['text'],\n",
    "    template=map_custom_prompt\n",
    ")"
   ]
  },
  {
   "cell_type": "code",
   "execution_count": 53,
   "id": "e4f56f22-c45c-41e7-9b8c-217011362713",
   "metadata": {},
   "outputs": [],
   "source": [
    "combine_custom_prompt='''\n",
    "Generate a summary of the following text from the news articles that includes the following points:\n",
    "\n",
    "* A title that accurately reflects the content of each news article.\n",
    "* Bullet points that list the key points of each news article.\n",
    "* A conclusion paragraph that summarizes the main points of each news article.\n",
    "\n",
    "Text:`{text}`\n",
    "'''"
   ]
  },
  {
   "cell_type": "code",
   "execution_count": 54,
   "id": "2f21db38-ed2a-4097-87c1-e4be187af906",
   "metadata": {},
   "outputs": [],
   "source": [
    "combine_prompt_template = PromptTemplate(\n",
    "    template=combine_custom_prompt, \n",
    "    input_variables=['text']\n",
    ")"
   ]
  },
  {
   "cell_type": "code",
   "execution_count": null,
   "id": "f8064a06-97d4-4652-a412-e86d52dd4c82",
   "metadata": {},
   "outputs": [],
   "source": [
    "summary_chain = load_summarize_chain (\n",
    "    llm=llm,\n",
    "    chain_type='map_reduce',\n",
    "    map_prompt=map_prompt_template,\n",
    "    combine_prompt=combine_prompt_template,\n",
    "    verbose=False\n",
    ")\n",
    "summary=summary_chain.run(docs)\n"
   ]
  },
  {
   "cell_type": "code",
   "execution_count": null,
   "id": "9daa3938-7c3e-4680-9711-2965c69c131d",
   "metadata": {},
   "outputs": [],
   "source": []
  }
 ],
 "metadata": {
  "kernelspec": {
   "display_name": "Python 3 (ipykernel)",
   "language": "python",
   "name": "python3"
  },
  "language_info": {
   "codemirror_mode": {
    "name": "ipython",
    "version": 3
   },
   "file_extension": ".py",
   "mimetype": "text/x-python",
   "name": "python",
   "nbconvert_exporter": "python",
   "pygments_lexer": "ipython3",
   "version": "3.9.0"
  }
 },
 "nbformat": 4,
 "nbformat_minor": 5
}
